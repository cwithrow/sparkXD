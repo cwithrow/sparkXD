{
 "cells": [
  {
   "cell_type": "markdown",
   "metadata": {},
   "source": [
    "## Gaussian Mixture Model \n",
    "This notebook performs 2 forms of Gaussian Mixture models algorithms to find clusters in flux space on stellar data \n",
    "1) Spark ML GMM module (on RDD)\n",
    "2) Sci-kit learn basic GMM on (numpy aray)\n",
    "- Data has been preprocessed in Spark as dataframes and converted to numpy arrays \n",
    "- Matplotlib is used to visualize\n"
   ]
  },
  {
   "cell_type": "code",
   "execution_count": 1,
   "metadata": {
    "collapsed": true
   },
   "outputs": [],
   "source": [
    "import os\n",
    "import numpy as np\n",
    "from pyspark.mllib.clustering import GaussianMixture, GaussianMixtureModel\n",
    "from pyspark.mllib.linalg import Vectors, DenseMatrix\n",
    "from sklearn.mixture import GMM\n",
    "\n",
    "#path = \"data/\"\n",
    "#in IBM workbook \n",
    "path = \"/resources/data/XD/\"\n",
    "\n",
    "Xpath = os.path.join(path, \"Xraw.npy\")\n",
    "Xerrpath = os.path.join(path, \"Xerr.npy\")\n",
    "Ypath  = os.path.join(path, \"Ystd.npy\")"
   ]
  },
  {
   "cell_type": "markdown",
   "metadata": {},
   "source": [
    "**Definitions for plotting from astroML (http://www.astroml.org/)"
   ]
  },
  {
   "cell_type": "code",
   "execution_count": null,
   "metadata": {
    "collapsed": false
   },
   "outputs": [],
   "source": [
    "from matplotlib import pyplot as plt\n",
    "# Allows plots to appear in notebook\n",
    "%matplotlib inline \n",
    "\n",
    "# From astroML (http://www.astroml.org/)\n",
    "from cStringIO import StringIO as BytesIO\n",
    "from scipy import interpolate\n",
    "\n",
    "from matplotlib import image\n",
    "from matplotlib.colors import LinearSegmentedColormap\n",
    "from matplotlib.transforms import Bbox\n",
    "from matplotlib.patches import Ellipse\n",
    "from matplotlib.pyplot  import savefig\n",
    "\n",
    "def draw_ellipse(mu, C, scales=[1, 2, 3], ax=None, **kwargs):\n",
    "    if ax is None:\n",
    "        ax = plt.gca()\n",
    "\n",
    "    # find principal components and rotation angle of ellipse\n",
    "    sigma_x2 = C[0, 0]\n",
    "    sigma_y2 = C[1, 1]\n",
    "    sigma_xy = C[0, 1]\n",
    "\n",
    "    alpha = 0.5 * np.arctan2(2 * sigma_xy,\n",
    "                             (sigma_x2 - sigma_y2))\n",
    "    tmp1 = 0.5 * (sigma_x2 + sigma_y2)\n",
    "    tmp2 = np.sqrt(0.25 * (sigma_x2 - sigma_y2) ** 2 + sigma_xy ** 2)\n",
    "\n",
    "    sigma1 = np.sqrt(tmp1 + tmp2)\n",
    "    sigma2 = np.sqrt(tmp1 - tmp2)\n",
    "\n",
    "    for scale in scales:\n",
    "        ax.add_patch(Ellipse((mu[0], mu[1]),\n",
    "                             2 * scale * sigma1, 2 * scale * sigma2,\n",
    "                             alpha * 180. / np.pi,\n",
    "                             **kwargs))\n"
   ]
  },
  {
   "cell_type": "markdown",
   "metadata": {},
   "source": [
    "**Load data and put into colors"
   ]
  },
  {
   "cell_type": "code",
   "execution_count": 3,
   "metadata": {
    "collapsed": false
   },
   "outputs": [],
   "source": [
    "# Previously processed numpy arrays \n",
    "\n",
    "Xraw= np.load(Xpath)\n",
    "Xerr = np.load(Xerrpath)\n",
    "Ystd = np.load(Ypath)\n",
    "\n",
    "# first define mixing matrix W and put into terms of colors \n",
    "W = np.array([[0, 1, 0, 0, 0],    # g magnitude\n",
    "              [1, -1, 0, 0, 0],   # u-g color\n",
    "              [0, 1, -1, 0, 0],   # g-r color\n",
    "              [0, 0, 1, -1, 0],   # r-i color\n",
    "              [0, 0, 0, 1, -1]])  # i-z color\n",
    "X = np.dot(Xraw, W.T)\n",
    "Y = np.dot(Ystd, W.T)\n"
   ]
  },
  {
   "cell_type": "markdown",
   "metadata": {
    "collapsed": true
   },
   "source": [
    "**GMM from Spark Machine Learning Library"
   ]
  },
  {
   "cell_type": "code",
   "execution_count": 4,
   "metadata": {
    "collapsed": false
   },
   "outputs": [
    {
     "name": "stdout",
     "output_type": "stream",
     "text": [
      "[array([ 18.3474  ,   2.57651 ,   1.4184  ,   0.634551,   0.408378]), array([ 19.8448  ,   1.24297 ,   0.5628  ,   0.244997,   0.059566]), array([ 15.3926  ,   2.24869 ,   1.0076  ,   0.361069,   0.174982]), array([ 15.8842  ,   1.87798 ,   0.6602  ,   0.193598,   0.082844]), array([  1.57286000e+01,   1.25874000e+00,   4.32600000e-01,\n",
      "         1.85274000e-01,   1.49720000e-02])]\n"
     ]
    }
   ],
   "source": [
    "# Convert to RDD\n",
    "Xrdd = sc.parallelize(X)\n",
    "print Xrdd.take(5)\n"
   ]
  },
  {
   "cell_type": "code",
   "execution_count": 5,
   "metadata": {
    "collapsed": false
   },
   "outputs": [],
   "source": [
    "#Train GMM model using Spark's ML Library\n",
    "model = GaussianMixture.train(Xrdd, 12, convergenceTol=0.0001,  maxIterations=100, seed=0)\n",
    "\n"
   ]
  },
  {
   "cell_type": "code",
   "execution_count": 6,
   "metadata": {
    "collapsed": false
   },
   "outputs": [
    {
     "data": {
      "text/plain": [
       "'for i in range(3):\\n    print (\"weight = \", model.weights[i], \"mu = \", model.gaussians[i].mu, \\n           \"sigma = \", model.gaussians[i].sigma.toArray())'"
      ]
     },
     "execution_count": 6,
     "metadata": {},
     "output_type": "execute_result"
    }
   ],
   "source": [
    "#Get the output parameters of the model\n",
    " #weights--weight of each Gaussian Model\n",
    " #mu--means\n",
    " #sigma--covariances matrix\n",
    "\"\"\"for i in range(3):\n",
    "    print (\"weight = \", model.weights[i], \"mu = \", model.gaussians[i].mu, \n",
    "           \"sigma = \", model.gaussians[i].sigma.toArray())\"\"\""
   ]
  },
  {
   "cell_type": "markdown",
   "metadata": {},
   "source": [
    "**Sklearn GMM - from sci-kit learn library"
   ]
  },
  {
   "cell_type": "code",
   "execution_count": 7,
   "metadata": {
    "collapsed": false
   },
   "outputs": [
    {
     "data": {
      "text/plain": [
       "'for i in range(3):\\n        print (\"\\n weight = \", clf.weights_[i], \"\\nmu = \", clf.means_, \\n           \"\\nsigma = \", clf.covars_[i])'"
      ]
     },
     "execution_count": 7,
     "metadata": {},
     "output_type": "execute_result"
    }
   ],
   "source": [
    "# fit model to raw data\n",
    "clf = GMM(n_components=12, tol=0.0001, n_iter=100, random_state=0, covariance_type ='full')\n",
    "clf.fit(X)\n",
    "\"\"\"for i in range(3):\n",
    "        print (\"\\n weight = \", clf.weights_[i], \"\\nmu = \", clf.means_, \n",
    "           \"\\nsigma = \", clf.covars_[i])\"\"\""
   ]
  },
  {
   "cell_type": "code",
   "execution_count": 8,
   "metadata": {
    "collapsed": false
   },
   "outputs": [
    {
     "data": {
      "image/png": "[encoded data removed]",
      "text/plain": [
       "<matplotlib.figure.Figure at 0x7ff1fc61e3d0>"
      ]
     },
     "metadata": {},
     "output_type": "display_data"
    }
   ],
   "source": [
    "# Modified from AstroML (http://www.astroml.org/) to compare clusters\n",
    "fig = plt.figure(figsize=(7, 6))\n",
    "\n",
    "fig.subplots_adjust(left=0.12, right=0.95,\n",
    "                    bottom=0.1, top=0.90,\n",
    "                    wspace=0.02, hspace=0.02)\n",
    "fig.suptitle(\"Cluster Locations\", fontsize=14)\n",
    "# only plot 1/10 of the stars for clarity\n",
    "\n",
    "ax1 = fig.add_subplot(231)\n",
    "for i in range(12):\n",
    "    draw_ellipse(np.asarray(model.gaussians[i].mu[2:4]), np.asarray(model.gaussians[i].sigma.toArray()[2:4, 2:4]), scales=[2],\n",
    "                 ec='k', fc='violet', alpha=0.2, ax=ax1)\n",
    "ax2 = fig.add_subplot(232)\n",
    "for i in range(clf.n_components):\n",
    "    draw_ellipse(clf.means_[i, 2:4], clf.covars_[i, 2:4, 2:4], scales=[2],\n",
    "                 ec='k', fc='blue', alpha=0.2, ax=ax2)\n",
    "\n",
    "titles = [\"Spark ML Library\",\n",
    "          \"Sci-kit Learn\"]\n",
    "ax=[ax1,ax2]\n",
    "\n",
    "for i in range(2):\n",
    "    ax[i].set_xlim(-.6,1.8)\n",
    "    ax[i].set_ylim(-.6,1.8)\n",
    "    \n",
    "    ax[i].xaxis.set_major_locator(plt.MultipleLocator(0.5))\n",
    "    ax[i].yaxis.set_major_locator(plt.MultipleLocator(0.5))\n",
    "\n",
    "    ax[i].text(0.05, 0.95, titles[i],\n",
    "               ha='left', va='top', transform=ax[i].transAxes)\n",
    "\n",
    "ax1.set_xlabel('$g-r$')\n",
    "ax1.set_ylabel('$r-i$')\n",
    "\n",
    "ax2.set_xlabel('$g-r$')\n",
    "ax2.yaxis.set_major_formatter(plt.NullFormatter())\n",
    "\n",
    "\n",
    "#savefig('plots/GMMcompare.png', bbox_inches='tight')"
   ]
  }
 ],
 "metadata": {
  "kernelspec": {
   "display_name": "Python 2",
   "language": "python",
   "name": "python2"
  },
  "language_info": {
   "codemirror_mode": {
    "name": "ipython",
    "version": 2
   },
   "file_extension": ".py",
   "mimetype": "text/x-python",
   "name": "python",
   "nbconvert_exporter": "python",
   "pygments_lexer": "ipython2",
   "version": "2.7.11"
  },
  "widgets": {
   "state": {},
   "version": "1.1.2"
  }
 },
 "nbformat": 4,
 "nbformat_minor": 0
}
