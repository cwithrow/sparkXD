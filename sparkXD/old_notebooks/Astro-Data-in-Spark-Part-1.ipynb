{
 "cells": [
  {
   "cell_type": "markdown",
   "metadata": {},
   "source": [
    "### Data Pre-processing ###\n",
    "This notebook takes raw photometric (energy amounts at different wavelengths of the visible spectrum) from stellar objects and prepares it for analysis in different Gaussian mixture clustering models \n",
    "    - raw data is crossmatched for common objects with data from a catalog of standard (non-variable), stacked stars\n",
    "    - the data is handled in Spark dataframes, then converted to numpy arrays and saved for analysis in GMM_plots notebook\n",
    "    - a plot of the color distributions for the catalog stars is generated at end\n",
    "  Data sources:  \n",
    "  - Raw data is a 2 x 10 sqr deg section of sky uploaded here from local drive, but previously downloaded from the SDSS SkyServer online database using an SQL query (detailed query in appendix of report)\n",
    "     The flux is taken from a single observations of objects\n",
    "      \n",
    "  - Standard star data is from Stripe 82 catalog by Ivezic et all 2007 available at     http://www.astro.washington.edu/users/ivezic/sdss/catalogs/stripe82.html\n",
    "     This data is from repeated observations which have been averaged and calibrated\n",
    "  "
   ]
  },
  {
   "cell_type": "code",
   "execution_count": 1,
   "metadata": {
    "collapsed": false
   },
   "outputs": [],
   "source": [
    "import os\n",
    "import numpy as np\n",
    "from matplotlib import pyplot as plt\n",
    "%matplotlib inline\n",
    "# to load data as dataframes\n",
    "from pyspark.sql import SQLContext\n",
    "sqlContext = SQLContext(sc)\n",
    "from pyspark.sql import functions as fn\n",
    "\n",
    "path = \"data/\"\n",
    "#in IBM workbook \n",
    "#path = \"/resources/data/XD/\"\n",
    "noisypath= os.path.join(path, \"DR7_raw.csv\")\n",
    "stdpath = os.path.join(path,\"stripe82calibStars_v2.6.dat.gz\" )"
   ]
  },
  {
   "cell_type": "markdown",
   "metadata": {},
   "source": [
    "**Definitions for loading and converting data"
   ]
  },
  {
   "cell_type": "code",
   "execution_count": 2,
   "metadata": {
    "collapsed": true
   },
   "outputs": [],
   "source": [
    "# converts estimated size to common units\n",
    "def sizeconv(num, suffix='B'):\n",
    "    for unit in ['','K','M','G','T','P','E','Z']:\n",
    "        if abs(num) < 1024.0:\n",
    "            return \"%3.1f%s%s\" % (num, unit, suffix)\n",
    "        num /= 1024.0\n",
    "    return \"%.1f%s%s\" % (num, 'Yi', suffix)"
   ]
  },
  {
   "cell_type": "code",
   "execution_count": 3,
   "metadata": {
    "collapsed": false
   },
   "outputs": [],
   "source": [
    "# Methods to convert a Dataframe to a local numpy ndarray, \n",
    "# from portion of spark_sklearn (https://github.com/databricks/spark-sklearn)\n",
    "# only intended for small files\n",
    "\n",
    "#convert data types\n",
    "def analyze_element(x):\n",
    "  if type(x) is float:\n",
    "    return (x, np.double)\n",
    "  if type(x) is int:\n",
    "    return (x, np.int)\n",
    "  if type(x) is long:\n",
    "    return (x, np.long)\n",
    "  if type(x) is DenseVector:\n",
    "    return (x.toArray(), (np.double, len(x.toArray())))\n",
    "  raise ValueError(\"The type %s could not be understood. Element was %s\" % (type(x), x))\n",
    "\n",
    "def analyze_df(df):\n",
    "  \"\"\" Converts a dataframe into a numpy array.\n",
    "  \"\"\"\n",
    "  rows = df.collect()\n",
    "  conversions = [[analyze_element(x) for x in row] for row in rows]\n",
    "  types = [t for d, t in conversions[0]]\n",
    "  data = [tuple([d for d, t in labeled_elts]) for labeled_elts in conversions]\n",
    "  names = list(df.columns)\n",
    "  dt = np.dtype({'names': names, 'formats': types})\n",
    "  arr = np.array(data, dtype=dt)\n",
    "  return arr\n",
    "\n",
    "    \n",
    "def df_to_numpy(df, *args):\n",
    "  \"\"\" Converts a dataframe into a (local) numpy array. Each column is named after the same\n",
    "  column name in the data frame.\n",
    "\n",
    "  The varargs provide (in order) the list of columns to extract from the dataframe.\n",
    "  If none are provided, all the columns from the dataframe are extracted.\n",
    "\n",
    "  This method only handles basic numerical types, or dense vectors with the same length.\n",
    "\n",
    "  Note: it is not particularly optimized, do not push it too hard.\n",
    "\n",
    "  :param df: a pyspark.sql.DataFrame object\n",
    "  :param args: a list of strings that are column names in the dataframe\n",
    "  :return: a structured numpy array with the content of the data frame.\n",
    "\n",
    "  Example:\n",
    "  >>> z = conv.df_to_numpy(df)\n",
    "  >>> z['x'].dtype, z['x'].shape\n",
    "  >>> z = conv.df_to_numpy(df, 'y')\n",
    "  >>> z['y'].dtype, z['y'].shape\n",
    "  \"\"\"\n",
    "  column_names = df.columns\n",
    "  if not args:\n",
    "    args = column_names\n",
    "  column_nameset = set(column_names)\n",
    "  for name in args:\n",
    "    assert name in column_nameset, (name, column_names)\n",
    "  # Just get the interesting columns\n",
    "  projected = df.select(*args)\n",
    "\n",
    "  return analyze_df(projected)"
   ]
  },
  {
   "cell_type": "code",
   "execution_count": 5,
   "metadata": {
    "collapsed": true
   },
   "outputs": [],
   "source": [
    "# From astroML library, for matching common objects between the raw data and the standard star catalog\n",
    "# Original at astroML: http://astroML.github.com\n",
    "from scipy.spatial import cKDTree\n",
    "\n",
    "def crossmatch(X1, X2, max_distance=np.inf):\n",
    "    \"\"\"Cross-match the values between X1 and X2\n",
    "\n",
    "    By default, this uses a KD Tree for speed.\n",
    "\n",
    "    Parameters\n",
    "    ----------\n",
    "    X1 : array_like\n",
    "        first dataset, shape(N1, D)\n",
    "    X2 : array_like\n",
    "        second dataset, shape(N2, D)\n",
    "    max_distance : float (optional)\n",
    "        maximum radius of search.  If no point is within the given radius,\n",
    "        then inf will be returned.\n",
    "\n",
    "    Returns\n",
    "    -------\n",
    "    dist, ind: ndarrays\n",
    "        The distance and index of the closest point in X2 to each point in X1\n",
    "        Both arrays are length N1.\n",
    "        Locations with no match are indicated by\n",
    "        dist[i] = inf, ind[i] = N2\n",
    "    \"\"\"\n",
    "    X1 = np.asarray(X1, dtype=float)\n",
    "    X2 = np.asarray(X2, dtype=float)\n",
    "\n",
    "    N1, D = X1.shape\n",
    "    N2, D2 = X2.shape\n",
    "\n",
    "    if D != D2:\n",
    "        raise ValueError('Arrays must have the same second dimension')\n",
    "\n",
    "    kdt = cKDTree(X2)\n",
    "\n",
    "    dist, ind = kdt.query(X1, k=1, distance_upper_bound=max_distance)\n",
    "\n",
    "    return dist, ind\n"
   ]
  },
  {
   "cell_type": "markdown",
   "metadata": {
    "collapsed": true
   },
   "source": [
    "**Load raw/noisy data (previously downloaded from SDSS) and correct for extinction"
   ]
  },
  {
   "cell_type": "code",
   "execution_count": 6,
   "metadata": {
    "collapsed": false
   },
   "outputs": [
    {
     "name": "stdout",
     "output_type": "stream",
     "text": [
      "+--------+--------+----+-------+------+------+------+------+------+-----+-----+-----+-----+-----+-------+-------+-------+-------+-------+-------+-------+-------+-------+-------+----+--------+\n",
      "|      ra|     dec| run|rExtSFD|  uRaw|  gRaw|  rRaw|  iRaw|  zRaw| uErr| gErr| rErr| iErr| zErr|uRawPSF|gRawPSF|rRawPSF|iRawPSF|zRawPSF|upsfErr|gpsfErr|rpsfErr|ipsfErr|zpsfErr|type|ISOLATED|\n",
      "+--------+--------+----+-------+------+------+------+------+------+-----+-----+-----+-----+-----+-------+-------+-------+-------+-------+-------+-------+-------+-------+-------+----+--------+\n",
      "|0.009223|0.742139|2662|  0.076| 25.24|22.767|21.115|19.683|18.797|0.884|0.163|0.052|0.029|0.042| 25.133|  22.75| 21.142| 19.702| 18.835|  0.888|  0.153|  0.056|   0.03|  0.043|   6|       1|\n",
      "|0.012325|-0.43537|2662|  0.111|26.008|23.707|22.472|22.233|21.341|0.709|0.375|0.165|0.216|0.379| 25.869| 23.667| 22.451| 22.197| 21.459|  0.771|  0.349|   0.15|  0.196|  0.393|   6|       1|\n",
      "+--------+--------+----+-------+------+------+------+------+------+-----+-----+-----+-----+-----+-------+-------+-------+-------+-------+-------+-------+-------+-------+-------+----+--------+\n",
      "only showing top 2 rows\n",
      "\n",
      "Shape of df_noisy: 86290 rows\n"
     ]
    }
   ],
   "source": [
    "# Load DR7 data as csv into a dataframe\n",
    "\n",
    "df_noisy  = sqlContext.read.load(noisypath, format = \"com.databricks.spark.csv\",header=\"true\", inferSchema = \"true\")\n",
    "\n",
    "#Select stars/unresolved light sources from the sample data\n",
    "df_noisy=df_noisy.filter(df_noisy.type==6)\n",
    "df_noisy.registerTempTable(\"noisy\")\n",
    "df_noisy.show(2)\n",
    "#print (\"Schema of df_noisy: %s\" % (df_noisy.dtypes))\n",
    "print (\"Shape of df_noisy: %d rows\" % (df_noisy.count()))\n",
    "#print (\"Size of df_noisy: %s\" % (sizeconv(sys.getsizeof(df_noisy))))"
   ]
  },
  {
   "cell_type": "code",
   "execution_count": 7,
   "metadata": {
    "collapsed": false
   },
   "outputs": [
    {
     "name": "stdout",
     "output_type": "stream",
     "text": [
      "+-------+-------+-------+-------+-------+\n",
      "|upsfErr|gpsfErr|rpsfErr|ipsfErr|zpsfErr|\n",
      "+-------+-------+-------+-------+-------+\n",
      "|  0.888|  0.153|  0.056|   0.03|  0.043|\n",
      "|  0.771|  0.349|   0.15|  0.196|  0.393|\n",
      "+-------+-------+-------+-------+-------+\n",
      "only showing top 2 rows\n",
      "\n",
      "None\n"
     ]
    }
   ],
   "source": [
    "#  Create dataframe of the PSF (point spread function) of flux values\n",
    "Xcol = []\n",
    "for band in 'ugriz':\n",
    "    Xcol += [band + 'RawPSF']\n",
    "#print Xcol\n",
    "\n",
    "# Create dataframe of psf errors\n",
    "XerrCol = []\n",
    "for band in 'ugriz':\n",
    "    XerrCol += [band + 'psfErr']\n",
    "#print XerrCol\n",
    "\n",
    "Xerr = df_noisy.select(XerrCol)\n",
    "print Xerr.show(2)"
   ]
  },
  {
   "cell_type": "code",
   "execution_count": 8,
   "metadata": {
    "collapsed": false
   },
   "outputs": [
    {
     "name": "stdout",
     "output_type": "stream",
     "text": [
      "+--------+-------+-------+------------------+---------+\n",
      "| uRawPSF|gRawPSF|rRawPSF|           iRawPSF|  zRawPSF|\n",
      "+--------+-------+-------+------------------+---------+\n",
      "|24.99544|22.6436| 21.066|19.644316000000003|18.792364|\n",
      "|25.66809|23.5116|  22.34|         22.112751|21.396729|\n",
      "+--------+-------+-------+------------------+---------+\n",
      "only showing top 2 rows\n",
      "\n",
      "Shape of X: 86290 rows\n"
     ]
    }
   ],
   "source": [
    "# Adjust extinction terms from Berry et al, arXiv 1111.4985 (1.810, 1.400, 1.0, 0.759, 0.561) with \\\n",
    "# specific SDSS extinction value 'rExtSFD', then subtract from RawPsf values of X\n",
    "\n",
    "\n",
    "X = sqlContext.sql(\"SELECT (uRawPSF - (rExtSFD *1.810)) as uRawPSF, \\\n",
    "                        (gRawPSF - (rExtSFD *1.400)) as gRawPSF, \\\n",
    "                        (rRawPSF - (rExtSFD *1.0)) as rRawPSF, \\\n",
    "                        (iRawPSF - (rExtSFD *0.759)) as iRawPSF, \\\n",
    "                        (zRawPSF - (rExtSFD *0.561)) as zRawPSF \\\n",
    "                        FROM noisy\")\n",
    "X.show(2)\n",
    "\n",
    "\n",
    "#print (\"Schema of X: %s\" % (X.dtypes))\n",
    "print (\"Shape of X: %d rows\" % (X.count()))\n",
    "#print (\"Size of X: %s\" % (sizeconv(sys.getsizeof(X))))"
   ]
  },
  {
   "cell_type": "markdown",
   "metadata": {
    "collapsed": true
   },
   "source": [
    "**Load standard star catalog and correct for extinction"
   ]
  },
  {
   "cell_type": "code",
   "execution_count": 9,
   "metadata": {
    "collapsed": false
   },
   "outputs": [
    {
     "name": "stdout",
     "output_type": "stream",
     "text": [
      "Rows in standard RDD w/o header: 1006849 rows\n",
      "CALIBSTARS 308.5002136  -1.2277210 0.0320 0.0320   4  0.587   0  0.066  0.066  0.000  0.000   0.0   4 22.301 22.265  0.057  0.168   1.9   4 20.814 20.809  0.020  0.049   1.2   4 20.187 20.202  0.019  0.053   2.0   4 19.878 19.809  0.047  0.139   2.4 \n"
     ]
    }
   ],
   "source": [
    "#Read the zipped file\n",
    "#stdpath = os.path.join(path,\"stripe82calibStars_v2.6.dat.gz\" )\n",
    "lines = sc.textFile(stdpath)\n",
    "\n",
    "#Remove header lines, each of which starts with \"###\".\n",
    "dataLines = lines.filter(lambda x: \"###\" not in x)\n",
    "\n",
    "print (\"Rows in standard RDD w/o header: %d rows\" % (dataLines.count()))\n",
    "print dataLines.first()"
   ]
  },
  {
   "cell_type": "code",
   "execution_count": 10,
   "metadata": {
    "collapsed": false
   },
   "outputs": [
    {
     "name": "stdout",
     "output_type": "stream",
     "text": [
      "Rows in standard dataframe w/o header: 1006849 rows\n",
      "+-----------+----------+-----+------+----+-----+------+------+------+------+------+-------+------+------+------+------+------+-------+------+------+------+------+------+-------+------+------+------+------+------+-------+------+------+------+------+------+-------+\n",
      "|         RA|       DEC|RArms|DECrms|Ntot|  A_r|Nobs_u|mmed_u| mmu_u|msig_u|mrms_u|mchi2_u|Nobs_g|mmed_g| mmu_g|msig_g|mrms_g|mchi2_g|Nobs_r|mmed_r| mmu_r|msig_r|mrms_r|mchi2_r|Nobs_i|mmed_i| mmu_i|msig_i|mrms_i|mchi2_i|Nobs_z|mmed_z| mmu_z|msig_z|mrms_z|mchi2_z|\n",
      "+-----------+----------+-----+------+----+-----+------+------+------+------+------+-------+------+------+------+------+------+-------+------+------+------+------+------+-------+------+------+------+------+------+-------+------+------+------+------+------+-------+\n",
      "|308.5002136| -1.227721|0.032| 0.032|   4|0.587|     0| 0.066| 0.066|   0.0|   0.0|    0.0|     4|22.301|22.265| 0.057| 0.168|    1.9|     4|20.814|20.809|  0.02| 0.049|    1.2|     4|20.187|20.202| 0.019| 0.053|    2.0|     4|19.878|19.809| 0.047| 0.139|    2.4|\n",
      "|308.5000916|-1.2402642|0.015| 0.015|   4|0.596|     4|21.804|21.821| 0.088| 0.063|    0.1|     4|20.455|20.447| 0.014| 0.028|    1.0|     4|19.752|19.747|  0.01| 0.024|    1.3|     4|19.468|19.465| 0.012| 0.027|    1.1|     4|19.317|19.305| 0.031| 0.048|    0.5|\n",
      "+-----------+----------+-----+------+----+-----+------+------+------+------+------+-------+------+------+------+------+------+-------+------+------+------+------+------+-------+------+------+------+------+------+-------+------+------+------+------+------+-------+\n",
      "only showing top 2 rows\n",
      "\n"
     ]
    }
   ],
   "source": [
    "from pyspark.sql import Row\n",
    "# Transform data with UDF\n",
    "def transformToNumeric(inputStr) :\n",
    "    attList = inputStr.split()    \n",
    "    #Filter out columns not wanted at this stage\n",
    "    values = Row(float(attList[1]), float(attList[2]), float(attList[3]), float(attList[4]), int(attList[5]), float(attList[6]),\\\n",
    "                 int(attList[7]),  float(attList[8]),  float(attList[9]),  float(attList[10]), float(attList[11]), float(attList[12]),\\\n",
    "                 int(attList[13]), float(attList[14]), float(attList[15]), float(attList[16]), float(attList[17]), float(attList[18]),\\\n",
    "                 int(attList[19]), float(attList[20]), float(attList[21]), float(attList[22]), float(attList[23]), float(attList[24]),\\\n",
    "                 int(attList[25]), float(attList[26]), float(attList[27]), float(attList[28]), float(attList[29]), float(attList[30]),\\\n",
    "                 int(attList[31]), float(attList[32]), float(attList[33]), float(attList[34]), float(attList[35]), float(attList[36]))\n",
    "    return values\n",
    "\n",
    "attrName = ('RA', 'DEC', 'RArms', 'DECrms', 'Ntot', 'A_r', 'Nobs_u', 'mmed_u', 'mmu_u', 'msig_u', 'mrms_u', 'mchi2_u',\\\n",
    "                'Nobs_g', 'mmed_g', 'mmu_g', 'msig_g', 'mrms_g', 'mchi2_g', 'Nobs_r', 'mmed_r', 'mmu_r', 'msig_r', 'mrms_r',\\\n",
    "                'mchi2_r', 'Nobs_i', 'mmed_i', 'mmu_i', 'msig_i', 'mrms_i', 'mchi2_i', 'Nobs_z', 'mmed_z', 'mmu_z', 'msig_z',\\\n",
    "                'mrms_z', 'mchi2_z')\n",
    "\n",
    "data = dataLines.map(transformToNumeric)\n",
    "\n",
    "# Combine the data and attribute and construct a data frame.\n",
    "stdDF_full = sqlContext.createDataFrame(data, attrName)\n",
    "\n",
    "print (\"Rows in standard dataframe w/o header: %d rows\" % (stdDF_full.count()))\n",
    "stdDF_full.show(2)\n"
   ]
  },
  {
   "cell_type": "code",
   "execution_count": 11,
   "metadata": {
    "collapsed": false
   },
   "outputs": [
    {
     "name": "stdout",
     "output_type": "stream",
     "text": [
      "Rows in stdData: 40614 rows\n",
      "+--------+---------+-----+------+----+-----+------+------+------+------+------+-------+------+------+------+------+------+-------+------+------+------+------+------+-------+------+------+------+------+------+-------+------+------+------+------+------+-------+\n",
      "|      RA|      DEC|RArms|DECrms|Ntot|  A_r|Nobs_u|mmed_u| mmu_u|msig_u|mrms_u|mchi2_u|Nobs_g|mmed_g| mmu_g|msig_g|mrms_g|mchi2_g|Nobs_r|mmed_r| mmu_r|msig_r|mrms_r|mchi2_r|Nobs_i|mmed_i| mmu_i|msig_i|mrms_i|mchi2_i|Nobs_z|mmed_z| mmu_z|msig_z|mrms_z|mchi2_z|\n",
      "+--------+---------+-----+------+----+-----+------+------+------+------+------+-------+------+------+------+------+------+-------+------+------+------+------+------+-------+------+------+------+------+------+-------+------+------+------+------+------+-------+\n",
      "| 2.01E-4|-0.838723|0.045| 0.038|  21|0.123|    20|19.835|19.834|  0.01| 0.046|    1.1|    20|18.846|18.849| 0.005| 0.028|    1.2|    20|18.473| 18.47| 0.004| 0.022|    1.5|    20|18.313|18.314| 0.004| 0.019|    1.0|    20|18.241|18.244| 0.007| 0.035|    1.0|\n",
      "|0.002422|  0.10184| 0.02| 0.029|   9|0.081|     7| 22.36|22.291| 0.089| 0.219|    0.7|     9|19.745|19.754| 0.008|  0.04|    2.5|     9|18.361|18.364| 0.005| 0.016|    0.8|     9| 16.93|16.936| 0.005| 0.021|    1.5|     9|16.168|16.166| 0.005| 0.017|    1.2|\n",
      "+--------+---------+-----+------+----+-----+------+------+------+------+------+-------+------+------+------+------+------+-------+------+------+------+------+------+-------+------+------+------+------+------+-------+------+------+------+------+------+-------+\n",
      "only showing top 2 rows\n",
      "\n"
     ]
    }
   ],
   "source": [
    "# Trim standard star data to to sample area\n",
    "\n",
    "stdData = stdDF_full.filter(stdDF_full.RA > 0).filter(stdDF_full.RA < 10).filter(stdDF_full.DEC > -1).filter(stdDF_full.DEC < 1)\n",
    "\n",
    "stdData.registerTempTable(\"stdData\")\n",
    "print (\"Rows in stdData: %d rows\" % (stdData.count()))\n",
    "\n",
    "stdData.show(2)\n"
   ]
  },
  {
   "cell_type": "code",
   "execution_count": 12,
   "metadata": {
    "collapsed": false
   },
   "outputs": [],
   "source": [
    "# Adjust extinction terms from Berry et al, arXiv 1111.4985 (1.810, 1.400, 1.0, 0.759, 0.561) with specfic SDSS extinction value\n",
    "#'rExtSFD', then subtract from RawPsf values of X\n",
    "#============================================================================\n",
    "\n",
    "# Columns of the PSF (point spread function)\n",
    "Ycol = []\n",
    "for band in 'ugriz':\n",
    "    Ycol += ['mmu_' + band]\n",
    "#print Ycol\n",
    "\n",
    "# Columns of psf errors\n",
    "YerrCol = []\n",
    "for band in 'ugriz':\n",
    "    YerrCol += ['msig_' + band]\n",
    "#print YerrCol\n",
    "\n",
    "#Correct psf values with adjusted extinction terms and select errors from standard stars\n",
    "\n",
    "Y_tmp = sqlContext.sql(\"SELECT (mmu_u - (A_r * 1.810)) as mmu_u, \\\n",
    "                        (mmu_g - (A_r *1.400)) as mmu_g, \\\n",
    "                        (mmu_r - (A_r *1.0)) as mmu_r, \\\n",
    "                        (mmu_i - (A_r *0.759)) as mmu_i, \\\n",
    "                        (mmu_z - (A_r *0.561)) as mmu_z \\\n",
    "                        FROM stdData\").withColumn(\"id\", fn.monotonicallyIncreasingId())\n",
    "# Make psf error table, find greatest error\n",
    "Yerr_tmp = sqlContext.sql(\"SELECT msig_u, msig_g, msig_r, msig_i,msig_z \\\n",
    "                        FROM stdData\").withColumn('greatest', fn.greatest(stdData.msig_u, stdData.msig_g, stdData.msig_r, stdData.msig_i,stdData.msig_z))\\\n",
    "                        .withColumn(\"id\", fn.monotonicallyIncreasingId())\n",
    "#print Y_tmp.show(5)\n",
    "#print Yerr_tmp.show(5)\n"
   ]
  },
  {
   "cell_type": "code",
   "execution_count": 13,
   "metadata": {
    "collapsed": false
   },
   "outputs": [
    {
     "name": "stdout",
     "output_type": "stream",
     "text": [
      "+------+------+------+------+------+--------+---+------------------+------------------+------------------+---------+---------+\n",
      "|msig_u|msig_g|msig_r|msig_i|msig_z|greatest| id|             mmu_u|             mmu_g|             mmu_r|    mmu_i|    mmu_z|\n",
      "+------+------+------+------+------+--------+---+------------------+------------------+------------------+---------+---------+\n",
      "|  0.01| 0.005| 0.004| 0.004| 0.007|    0.01|  0|          19.61137|           18.6768|18.346999999999998|18.220643|18.174997|\n",
      "| 0.008| 0.007| 0.006| 0.006| 0.006|   0.008|  4|          18.73149|           17.4536|16.959999999999997|16.801111|16.750169|\n",
      "| 0.006| 0.009| 0.009| 0.007| 0.007|   0.009| 10|16.395249999999997|15.094999999999999|14.632000000000001|14.499075|14.451925|\n",
      "| 0.006| 0.006| 0.004| 0.005| 0.006|   0.006| 12|          18.04399|           17.1006|            16.826|16.731161|16.722119|\n",
      "|  0.01| 0.005| 0.004| 0.004| 0.007|    0.01| 17|          19.61137|           18.6768|18.346999999999998|18.220643|18.174997|\n",
      "+------+------+------+------+------+--------+---+------------------+------------------+------------------+---------+---------+\n",
      "only showing top 5 rows\n",
      "\n",
      "Rows in filter YYerr: 13377 rows\n",
      "+------+------+------+------+------+\n",
      "|msig_u|msig_g|msig_r|msig_i|msig_z|\n",
      "+------+------+------+------+------+\n",
      "|  0.01| 0.005| 0.004| 0.004| 0.007|\n",
      "| 0.008| 0.007| 0.006| 0.006| 0.006|\n",
      "| 0.006| 0.009| 0.009| 0.007| 0.007|\n",
      "| 0.006| 0.006| 0.004| 0.005| 0.006|\n",
      "|  0.01| 0.005| 0.004| 0.004| 0.007|\n",
      "+------+------+------+------+------+\n",
      "only showing top 5 rows\n",
      "\n",
      "None\n"
     ]
    }
   ],
   "source": [
    "# Join to force inde filtered rows correctly\n",
    "YYerr_temp = Yerr_tmp.join(Y_tmp, Yerr_tmp.id == Y_tmp.id, \"inner\").drop(Y_tmp.id).orderBy(Yerr_tmp.id)\n",
    "YYerr_filtered = YYerr_temp.filter(YYerr_temp.mmu_g < 20).filter(YYerr_temp.greatest < 0.05)\n",
    "\n",
    "YYerr_filtered.show(5)\n",
    "print (\"Rows in filter YYerr: %d rows\" % (YYerr_filtered.count()))\n",
    "\n",
    "# Select PSF magnitudes for Y and psf errors for Yerr, create mask from id to also filter data in the table with complete attr\n",
    "\n",
    "Y = YYerr_filtered[Ycol]\n",
    "\n",
    "Yerr = YYerr_filtered[YerrCol]\n",
    "mask = YYerr_filtered.select(\"id\")\n",
    "print Yerr.show(5)\n"
   ]
  },
  {
   "cell_type": "code",
   "execution_count": 14,
   "metadata": {
    "collapsed": false
   },
   "outputs": [
    {
     "name": "stdout",
     "output_type": "stream",
     "text": [
      "+------+\n",
      "|msig_u|\n",
      "+------+\n",
      "|  0.01|\n",
      "| 0.008|\n",
      "| 0.006|\n",
      "| 0.006|\n",
      "|  0.01|\n",
      "+------+\n",
      "only showing top 5 rows\n",
      "\n",
      "None\n"
     ]
    }
   ],
   "source": [
    "stdData_id = stdData.withColumn(\"id\", fn.monotonicallyIncreasingId())\n",
    "#print stdData_id.show(5)\n",
    "stdData_filtered = (stdData_id\n",
    "                    .join(mask, stdData_id.id == mask.id, \"inner\")\n",
    "                    .orderBy(stdData_id.id)\n",
    "                    .drop(mask.id))\n",
    "print stdData_filtered.select(\"msig_u\").show(5)\n",
    "#print (\"Rows in stdData_sel: %d rows\" % (stdData_selected.count()))"
   ]
  },
  {
   "cell_type": "markdown",
   "metadata": {},
   "source": [
    "**Prepare files for crossmatching\n"
   ]
  },
  {
   "cell_type": "code",
   "execution_count": 15,
   "metadata": {
    "collapsed": false
   },
   "outputs": [
    {
     "name": "stdout",
     "output_type": "stream",
     "text": [
      "[[  9.22300000e-03   7.42139000e-01]\n",
      " [  1.23250000e-02  -4.35370000e-01]\n",
      " [  1.54080000e-02   7.71965000e-01]\n",
      " ..., \n",
      " [  9.84700800e+00   8.72453000e-01]\n",
      " [  9.93804800e+00   9.07249000e-01]\n",
      " [  9.99996100e+00   9.50892000e-01]]\n",
      "('number of noisy points:  ', (86290, 2))\n",
      "[[  2.01000000e-04  -8.38723000e-01]\n",
      " [  1.93100000e-03   5.25302900e-01]\n",
      " [  1.22300000e-03   6.65145000e-01]\n",
      " ..., \n",
      " [  9.49930100e+00  -4.98020000e-01]\n",
      " [  9.99996280e+00   9.50888000e-01]\n",
      " [  9.99845410e+00  -3.66007000e-01]]\n",
      "('number of stacked points:', (13377, 2))\n"
     ]
    }
   ],
   "source": [
    "Xloc = df_noisy.select(\"ra\",\"dec\")\n",
    "Yloc = stdData_filtered.select(\"RA\",\"DEC\")\n",
    "\n",
    "# hstack stacks the tuples on top of each other instead of in a grid \n",
    "Xloc_np = df_to_numpy(Xloc)\n",
    "Xlocs = np.hstack((Xloc_np['ra'][:, np.newaxis],\n",
    "                   Xloc_np['dec'][:, np.newaxis]))\n",
    "print Xlocs\n",
    "print(\"number of noisy points:  \", Xlocs.shape)\n",
    "\n",
    "Yloc_np = df_to_numpy(Yloc)\n",
    "Ylocs = np.hstack((Yloc_np['RA'][:, np.newaxis],\n",
    "                   Yloc_np['DEC'][:, np.newaxis]))\n",
    "print Ylocs\n",
    "print(\"number of stacked points:\", Ylocs.shape)\n"
   ]
  },
  {
   "cell_type": "code",
   "execution_count": 16,
   "metadata": {
    "collapsed": false
   },
   "outputs": [
    {
     "name": "stdout",
     "output_type": "stream",
     "text": [
      "[             inf              inf              inf ...,              inf\n",
      "              inf   4.38634244e-06]\n",
      "[13377 13377 13377 ..., 13377 13377 13375]\n"
     ]
    }
   ],
   "source": [
    "# From http://www.astroml.org/: Find all points within 0.9 arcsec-This cutoff was chosen by UW, by plotting a histogram of the log(distances).\n",
    "# The crossmatch function returns the distance and index of the closest point in Ylocs to each point in Xlocs\n",
    "       \n",
    "dist, ind = crossmatch(Xlocs, Ylocs, max_distance=0.9 / 3600)\n",
    "print dist\n",
    "print ind\n",
    "noisy_mask = (~np.isinf(dist))   # mask contains false for values with no match (are infinite distance to nearest neighbor)\n",
    "\n",
    "stacked_mask = ind[noisy_mask] #index number of matched objects in standard star catalog"
   ]
  },
  {
   "cell_type": "code",
   "execution_count": 17,
   "metadata": {
    "collapsed": false
   },
   "outputs": [],
   "source": [
    "#Convert noisy data to numpy array and filter for crossmatched objects\n",
    "\n",
    "noisy_np = df_to_numpy(df_noisy)\n",
    "noisy_cm = noisy_np[noisy_mask]\n",
    "#print noisy_cm.shape\n",
    "#print noisy_cm\n",
    "\n",
    "\n",
    "X_temp = df_to_numpy(X)\n",
    "X_np = np.vstack([X_temp[f + 'RawPSF'] for f in 'ugriz']).T\n",
    "X_cm = X_np[noisy_mask]\n",
    "#print X_cm.shape\n",
    "#print X_cm\n",
    "#print X_cm.dtype\n",
    "Xerr_temp= df_to_numpy(Xerr)\n",
    "Xerr_np = np.vstack([Xerr_temp[f + 'psfErr'] for f in 'ugriz']).T\n",
    "Xerr_cm = Xerr_np[noisy_mask]\n",
    "#print Xerr_cm.shape\n",
    "#print Xerr_cm\n"
   ]
  },
  {
   "cell_type": "code",
   "execution_count": 18,
   "metadata": {
    "collapsed": false
   },
   "outputs": [
    {
     "name": "stdout",
     "output_type": "stream",
     "text": [
      "('size after crossmatch:', (12988, 5))\n"
     ]
    }
   ],
   "source": [
    "# Convert standard data\n",
    "stdData_np = df_to_numpy(stdData_filtered)\n",
    "stdData_cm = stdData_np[stacked_mask]\n",
    "\n",
    "Y_temp= df_to_numpy(Y)\n",
    "Y_np = np.vstack([Y_temp['mmu_' + f] for f in 'ugriz']).T\n",
    "Y_cm = Y_np[stacked_mask]\n",
    "\n",
    "#never used, can comment out\n",
    "\"\"\"Yerr_tmp =  df_to_numpy(Yerr)\n",
    "Yerr_np = np.vstack([Yerr_temp['msig_' + f] for f in 'ugriz']).T\n",
    "Yerr_cm = Yerr_np[stacked_mask]\"\"\"\n",
    "\n",
    "\n",
    "# Confirm datasets are same size\n",
    "assert X_cm.shape == Y_cm.shape\n",
    "print(\"size after crossmatch:\", X_cm.shape)"
   ]
  },
  {
   "cell_type": "code",
   "execution_count": 19,
   "metadata": {
    "collapsed": false,
    "scrolled": false
   },
   "outputs": [],
   "source": [
    "#Save for further processing in GMM_plots notebook\n",
    "np.save(\"Xraw\",X_cm)    #for XD\n",
    "np.save(\"Xerr\", Xerr_cm)   #for XD\n",
    "np.save(\"Ystd\",Y_cm)\n",
    "# Also save non crossmatched data\n",
    "np.save(\"Xfull\", X_np) # as raw data to classify wth model\n",
    "np.save(\"Yfull\", Y_np) # as training data "
   ]
  },
  {
   "cell_type": "markdown",
   "metadata": {},
   "source": [
    "**Plot of Stripe 82 calibrated standard star catalog"
   ]
  },
  {
   "cell_type": "code",
   "execution_count": 20,
   "metadata": {
    "collapsed": true
   },
   "outputs": [],
   "source": [
    "\"\"\"\n",
    "Multi-panel plotting tools from astroML, http://www.astroml.org/\n",
    "\"\"\"\n",
    "from copy import deepcopy\n",
    "\n",
    "class MultiAxes(object):\n",
    "    \"\"\"Visualize Multiple-dimensional data\n",
    "\n",
    "    This class enables the visualization of multi-dimensional data, using\n",
    "    a triangular grid of 2D plots.\n",
    "\n",
    "    Parameters\n",
    "    ----------\n",
    "    ndim : integer\n",
    "        Number of data dimensions\n",
    "    inner_labels : bool\n",
    "        If true, then label the inner axes.  If false, then only the outer\n",
    "        axes will be labeled\n",
    "    fig : matplotlib.Figure\n",
    "        if specified, draw the plot on this figure.  Otherwise, use the\n",
    "        current active figure.\n",
    "    left, bottom, right, top, wspace, hspace : floats\n",
    "        these parameters control the layout of the plots.  They behave have\n",
    "        an identical effect as the arguments to plt.subplots_adjust.  If not\n",
    "        specified, default values from the rc file will be used.\n",
    "\n",
    "    Examples\n",
    "    --------\n",
    "    A grid of scatter plots can be created as follows::\n",
    "\n",
    "        x = np.random.normal((4, 1000))\n",
    "        R = np.random.random((4, 4))  # projection matrix\n",
    "        x = np.dot(R, x)\n",
    "        ax = MultiAxes(4)\n",
    "        ax.scatter(x)\n",
    "        ax.set_labels(['x1', 'x2', 'x3', 'x4'])\n",
    "\n",
    "    Alternatively, the scatter plot can be visualized as a density::\n",
    "\n",
    "        ax = MultiAxes(4)\n",
    "        ax.density(x, bins=[20, 20, 20, 20])\n",
    "    \"\"\"\n",
    "    def __init__(self, ndim, inner_labels=False,\n",
    "                 fig=None,\n",
    "                 left=None, bottom=None,\n",
    "                 right=None, top=None,\n",
    "                 wspace=None, hspace=None):\n",
    "        # Import here so that testing with Agg will work\n",
    "        from matplotlib import pyplot as plt\n",
    "        if fig is None:\n",
    "            fig = plt.gcf()\n",
    "        self.fig = fig\n",
    "\n",
    "        self.ndim = ndim\n",
    "        self.inner_labels = inner_labels\n",
    "\n",
    "        self._update('left', left)\n",
    "        self._update('bottom', bottom)\n",
    "        self._update('right', right)\n",
    "        self._update('top', top)\n",
    "        self._update('wspace', wspace)\n",
    "        self._update('hspace', hspace)\n",
    "\n",
    "        self.axes = self._draw_panels()\n",
    "\n",
    "    def _update(self, s, val):\n",
    "        # Import here so that testing with Agg will work\n",
    "        from matplotlib import rcParams\n",
    "        if val is None:\n",
    "            val = getattr(self, s, None)\n",
    "            if val is None:\n",
    "                key = 'figure.subplot.' + s\n",
    "                val = rcParams[key]\n",
    "        setattr(self, s, val)\n",
    "\n",
    "    def _check_data(self, data):\n",
    "        data = np.asarray(data)\n",
    "        if data.ndim != 2:\n",
    "            raise ValueError(\"data dimension should be 2\")\n",
    "        if data.shape[1] != self.ndim:\n",
    "            raise ValueError(\"leading dimension of data should match ndim\")\n",
    "        return data\n",
    "\n",
    "    def _draw_panels(self):\n",
    "        # Import here so that testing with Agg will work\n",
    "        from matplotlib import pyplot as plt\n",
    "        if self.top <= self.bottom:\n",
    "            raise ValueError('top must be larger than bottom')\n",
    "        if self.right <= self.left:\n",
    "            raise ValueError('right must be larger than left')\n",
    "\n",
    "        ndim = self.ndim\n",
    "\n",
    "        panel_width = ((self.right - self.left)\n",
    "                       / (ndim - 1 + self.wspace * (ndim - 2)))\n",
    "        panel_height = ((self.top - self.bottom)\n",
    "                        / (ndim - 1 + self.hspace * (ndim - 2)))\n",
    "\n",
    "        full_panel_width = (1 + self.wspace) * panel_width\n",
    "        full_panel_height = (1 + self.hspace) * panel_height\n",
    "\n",
    "        axes = np.empty((ndim, ndim), dtype=object)\n",
    "        axes.fill(None)\n",
    "\n",
    "        for j in range(1, ndim):\n",
    "            for i in range(j):\n",
    "                left = self.left + i * full_panel_width\n",
    "                right = self.bottom + (ndim - 1 - j) * full_panel_height\n",
    "                ax = self.fig.add_axes([left, right,\n",
    "                                        panel_width, panel_height])\n",
    "                axes[i, j] = ax\n",
    "\n",
    "        if not self.inner_labels:\n",
    "            # remove unneeded x labels\n",
    "            for i in range(ndim):\n",
    "                for j in range(ndim - 1):\n",
    "                    ax = axes[i, j]\n",
    "                    if ax is not None:\n",
    "                        ax.xaxis.set_major_formatter(plt.NullFormatter())\n",
    "\n",
    "            # remove unneeded y labels\n",
    "            for i in range(1, ndim):\n",
    "                for j in range(ndim):\n",
    "                    ax = axes[i, j]\n",
    "                    if ax is not None:\n",
    "                        ax.yaxis.set_major_formatter(plt.NullFormatter())\n",
    "\n",
    "        return np.asarray(axes, dtype=object)\n",
    "\n",
    "    def set_limits(self, limits):\n",
    "        \"\"\"Set the axes limits\n",
    "\n",
    "        Parameters\n",
    "        ----------\n",
    "        limits : list of tuples\n",
    "            a list of plot limits for each dimension, each in the form\n",
    "            (xmin, xmax).  The length of `limits` should match the data\n",
    "            dimension.\n",
    "        \"\"\"\n",
    "        if len(limits) != self.ndim:\n",
    "            raise ValueError(\"limits do not match number of dimensions\")\n",
    "\n",
    "        for i in range(self.ndim):\n",
    "            for j in range(self.ndim):\n",
    "                ax = self.axes[i, j]\n",
    "                if ax is not None:\n",
    "                    ax.set_xlim(limits[i])\n",
    "                    ax.set_ylim(limits[j])\n",
    "\n",
    "    def set_labels(self, labels):\n",
    "        \"\"\"Set the axes labels\n",
    "\n",
    "        Parameters\n",
    "        ----------\n",
    "        labels : list of strings\n",
    "            a list of plot limits for each dimension.  The length of `labels`\n",
    "            should match the data dimension.\n",
    "        \"\"\"\n",
    "        if len(labels) != self.ndim:\n",
    "            raise ValueError(\"labels do not match number of dimensions\")\n",
    "\n",
    "        for i in range(self.ndim):\n",
    "            ax = self.axes[i, self.ndim - 1]\n",
    "            if ax is not None:\n",
    "                ax.set_xlabel(labels[i])\n",
    "\n",
    "        for j in range(self.ndim):\n",
    "            ax = self.axes[0, j]\n",
    "            if ax is not None:\n",
    "                ax.set_ylabel(labels[j])\n",
    "\n",
    "    def set_locators(self, locators):\n",
    "        \"\"\"Set the tick locators for the plots\n",
    "\n",
    "        Parameters\n",
    "        ----------\n",
    "        locators : list or plt.Locator object\n",
    "            If a list, then the length should match the data dimension.  If\n",
    "            a single Locator instance, then each axes will be given the\n",
    "            same locator.\n",
    "        \"\"\"\n",
    "        # Import here so that testing with Agg will work\n",
    "        from matplotlib import pyplot as plt\n",
    "        if isinstance(locators, plt.Locator):\n",
    "            locators = [deepcopy(locators) for i in range(self.ndim)]\n",
    "        elif len(locators) != self.ndim:\n",
    "            raise ValueError(\"locators do not match number of dimensions\")\n",
    "\n",
    "        for i in range(self.ndim):\n",
    "            for j in range(self.ndim):\n",
    "                ax = self.axes[i, j]\n",
    "                if ax is not None:\n",
    "                    ax.xaxis.set_major_locator(locators[i])\n",
    "                    ax.yaxis.set_major_locator(locators[j])\n",
    "\n",
    "  \n",
    "    def plot(self, data, *args, **kwargs):\n",
    "        \"\"\"Plot data\n",
    "\n",
    "        This function calls plt.plot() on each axes.  All arguments or\n",
    "        keyword arguments are passed to the plt.plot function.\n",
    "\n",
    "        Parameters\n",
    "        ----------\n",
    "        data : ndarray\n",
    "            shape of data is [n_samples, ndim], and ndim should match that\n",
    "            passed to the MultiAxes constructor.\n",
    "        \"\"\"\n",
    "        data = self._check_data(data)\n",
    "\n",
    "        for i in range(self.ndim):\n",
    "            for j in range(self.ndim):\n",
    "                ax = self.axes[i, j]\n",
    "                if ax is None:\n",
    "                    continue\n",
    "                ax.plot(data[:, i], data[:, j], *args, **kwargs)\n",
    "\n",
    "\n",
    "    def density(self, data, bins=20, **kwargs):\n",
    "        \"\"\"Density plot of data\n",
    "\n",
    "        This function calls np.histogram2D to bin the data in each axes, then\n",
    "        calls plt.imshow() on the result.  All extra arguments or\n",
    "        keyword arguments are passed to the plt.imshow function.\n",
    "\n",
    "        Parameters\n",
    "        ----------\n",
    "        data : ndarray\n",
    "            shape of data is [n_samples, ndim], and ndim should match that\n",
    "            passed to the MultiAxes constructor.\n",
    "        bins : int, array, list of ints, or list of arrays\n",
    "            specify the bins for each dimension. If bins is a list, then the\n",
    "            length must match the data dimension\n",
    "        \"\"\"\n",
    "        data = self._check_data(data)\n",
    "\n",
    "        if not hasattr(bins, '__len__'):\n",
    "            bins = [bins for i in range(self.ndim)]\n",
    "        elif len(bins) != self.ndim:\n",
    "            bins = [bins for i in range(self.ndim)]\n",
    "\n",
    "        for i in range(self.ndim):\n",
    "            for j in range(self.ndim):\n",
    "                ax = self.axes[i, j]\n",
    "                if ax is None:\n",
    "                    continue\n",
    "\n",
    "                H, xbins, ybins = np.histogram2d(data[:, i], data[:, j],\n",
    "                                                 (bins[i], bins[j]))\n",
    "                ax.imshow(H.T, origin='lower', aspect='auto',\n",
    "                          extent=(xbins[0], xbins[-1], ybins[0], ybins[-1]),\n",
    "                          **kwargs)\n",
    "\n",
    "                ax.set_xlim(xbins[0], xbins[-1])\n",
    "                ax.set_ylim(ybins[0], ybins[-1])\n"
   ]
  },
  {
   "cell_type": "code",
   "execution_count": 21,
   "metadata": {
    "collapsed": false
   },
   "outputs": [
    {
     "name": "stdout",
     "output_type": "stream",
     "text": [
      "+------------------+------------------+-------------------+-------------------+\n",
      "|               u_g|               g_r|                r_i|                i_z|\n",
      "+------------------+------------------+-------------------+-------------------+\n",
      "|           -22.199|1.4559999999999995| 0.6069999999999993| 0.3930000000000007|\n",
      "|1.3740000000000023|0.6999999999999993|0.28200000000000003|0.16000000000000014|\n",
      "|1.4430000000000014|0.6759999999999984| 0.2740000000000009|0.16000000000000014|\n",
      "|2.0920000000000023|0.9049999999999976|0.35100000000000264|0.24199999999999733|\n",
      "|           -22.942|1.6850000000000023| 0.9879999999999995|              0.625|\n",
      "+------------------+------------------+-------------------+-------------------+\n",
      "only showing top 5 rows\n",
      "\n"
     ]
    }
   ],
   "source": [
    "stdDF_full.registerTempTable(\"std_full\")\n",
    "# Convert from direct ugriz values to colors, u-g, g-r, r-i, i-z \n",
    "stripe82 = sqlContext.sql(\"SELECT(mmu_u - mmu_g) as u_g, \\\n",
    "                        (mmu_g - mmu_r) as g_r, \\\n",
    "                        (mmu_r - mmu_i) as r_i, \\\n",
    "                        (mmu_i - mmu_z) as i_z \\\n",
    "                        FROM std_full\")\n",
    "stripe82.show(5)\n",
    "\n",
    "colors = ['u_g', 'g_r', 'r_i', 'i_z']\n",
    "# Convert to np\n",
    "stripe82tmp = df_to_numpy(stripe82)\n",
    "stripe82arr = np.vstack([stripe82tmp[c] for c in colors]).T\n"
   ]
  },
  {
   "cell_type": "code",
   "execution_count": 22,
   "metadata": {
    "collapsed": false,
    "scrolled": false
   },
   "outputs": [
    {
     "data": {
      "text/plain": [
       "<matplotlib.text.Text at 0x7f79911ac5d0>"
      ]
     },
     "execution_count": 22,
     "metadata": {},
     "output_type": "execute_result"
    },
    {
     "data": {
      "image/png": "[encoded data removed]",
      "text/plain": [
       "<matplotlib.figure.Figure at 0x7f79911ac6d0>"
      ]
     },
     "metadata": {},
     "output_type": "display_data"
    }
   ],
   "source": [
    "labels = ['u-g', 'g-r', 'r-i', 'i-z']\n",
    "\n",
    "bins = [np.linspace(0.0, 3.5, 100),\n",
    "        np.linspace(0, 2, 100),\n",
    "        np.linspace(-0.2, 1.8, 100),\n",
    "        np.linspace(-0.2, 1.0, 100)]\n",
    "\n",
    "fig = plt.figure(figsize=(10, 10))\n",
    "ax = MultiAxes(4, hspace=0.05, wspace=0.05, fig=fig)\n",
    "\n",
    "ax.density(stripe82arr, bins=bins)\n",
    "ax.set_labels(labels)\n",
    "ax.set_locators(plt.MaxNLocator(5))\n",
    "plt.suptitle('SDSS magnitudes for Stripe 82')\n",
    "#savefig('stripe82', bbox_inches='tight')"
   ]
  },
  {
   "cell_type": "code",
   "execution_count": null,
   "metadata": {
    "collapsed": true
   },
   "outputs": [],
   "source": []
  }
 ],
 "metadata": {
  "kernelspec": {
   "display_name": "Python 2",
   "language": "python",
   "name": "python2"
  },
  "language_info": {
   "codemirror_mode": {
    "name": "ipython",
    "version": 2
   },
   "file_extension": ".py",
   "mimetype": "text/x-python",
   "name": "python",
   "nbconvert_exporter": "python",
   "pygments_lexer": "ipython2",
   "version": "2.7.11"
  },
  "widgets": {
   "state": {},
   "version": "1.1.2"
  }
 },
 "nbformat": 4,
 "nbformat_minor": 0
}
